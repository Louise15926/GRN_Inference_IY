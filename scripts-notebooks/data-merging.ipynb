{
 "nbformat": 4,
 "nbformat_minor": 2,
 "metadata": {
  "language_info": {
   "name": "python",
   "codemirror_mode": {
    "name": "ipython",
    "version": 3
   },
   "version": "3.7.3"
  },
  "orig_nbformat": 2,
  "file_extension": ".py",
  "mimetype": "text/x-python",
  "name": "python",
  "npconvert_exporter": "python",
  "pygments_lexer": "ipython3",
  "version": 3
 },
 "cells": [
  {
   "cell_type": "code",
   "execution_count": 1,
   "metadata": {},
   "outputs": [],
   "source": [
    "# Import stuff\n",
    "import pandas as pd\n",
    "import numpy as np"
   ]
  },
  {
   "cell_type": "code",
   "execution_count": 2,
   "metadata": {},
   "outputs": [
    {
     "name": "stdout",
     "output_type": "stream",
     "text": "/Users/SamYang95/GRN_Inference_IY/scripts-notebooks\n"
    }
   ],
   "source": [
    "# # Change directory to VSCode workspace root so that relative path loads work correctly. Turn this addition off with the DataScience.changeDirOnImportExport setting\n",
    "# # ms-python.python added\n",
    "# import os\n",
    "# try:\n",
    "# \t# os.chdir(os.path.join(os.getcwd(), '..'))\n",
    "#     os.chdir(os.path.join(os.getcwd(), \"./scripts-notebooks\"))\n",
    "#     print(os.getcwd())\n",
    "# except Exception as e:\n",
    "# \tprint(e)"
   ]
  },
  {
   "cell_type": "code",
   "execution_count": 3,
   "metadata": {},
   "outputs": [],
   "source": [
    "# Get expression data\n",
    "ko_df = pd.read_csv('../dataset/yeast_networks/expression/KO.txt', sep='\\t').set_index('Gene')\n",
    "nv_df = pd.read_csv('../dataset/yeast_networks/expression/NatVar.txt', sep='\\t').set_index('Gene')\n",
    "stress_df = pd.read_csv('../dataset/yeast_networks/expression/Stress.txt', sep='\\t').set_index('Name')\n",
    "\n",
    "# Get Transcription Factors\n",
    "ko_tf = pd.read_csv('../dataset/yeast_networks/expression/KO_TF_names.txt', sep='\\t', header=None)\n",
    "ko_tf.columns = ['TF']\n",
    "\n",
    "nv_tf = pd.read_csv('../dataset/yeast_networks/expression/NatVar_TF_names.txt', sep='\\t', header=None)\n",
    "nv_tf.columns = ['TF']\n",
    "\n",
    "stress_tf = pd.read_csv('../dataset/yeast_networks/expression/Stress_TF_names.txt', sep='\\t', header=None)\n",
    "stress_tf.columns = ['TF']\n",
    "\n",
    "# Note that there are different gene list for each df, so we will use ko as test for now."
   ]
  },
  {
   "cell_type": "code",
   "execution_count": 26,
   "metadata": {},
   "outputs": [],
   "source": [
    "def merge_dataset(exp_df_list, merge_method):\n",
    "    if len(exp_df_list) == 0: raise Exception(\"input list cannot be empty\")\n",
    "\n",
    "    exp_df = exp_df_list[0]\n",
    "    for i in range(1, len(exp_df_list)):\n",
    "        exp_df = merge_method(exp_df, exp_df_list[i])\n",
    "        # exp_df = exp_df.merge(exp_df_list[i], how='inner', left_index=True, right_index=True)\n",
    "\n",
    "    return exp_df"
   ]
  },
  {
   "cell_type": "code",
   "execution_count": 31,
   "metadata": {},
   "outputs": [],
   "source": [
    "merge_method_df = lambda x, y: x.merge(y, how='inner', left_index=True, right_index=True)\n",
    "merge_method_tf = lambda x, y: x.merge(y, how='inner', left_on='TF', right_on='TF')"
   ]
  },
  {
   "cell_type": "code",
   "execution_count": 32,
   "metadata": {},
   "outputs": [],
   "source": [
    "df_all = merge_dataset([ko_df, nv_df, stress_df], merge_method=merge_method_df)"
   ]
  },
  {
   "cell_type": "code",
   "execution_count": 33,
   "metadata": {},
   "outputs": [],
   "source": [
    "tf_all = merge_dataset([ko_tf, nv_tf, stress_tf], merge_method=merge_method_tf)"
   ]
  },
  {
   "cell_type": "code",
   "execution_count": 34,
   "metadata": {},
   "outputs": [],
   "source": [
    "df_all.to_csv('../dataset/yeast_networks/expression/All.txt', sep='\\t')"
   ]
  },
  {
   "cell_type": "code",
   "execution_count": null,
   "metadata": {},
   "outputs": [],
   "source": []
  }
 ]
}