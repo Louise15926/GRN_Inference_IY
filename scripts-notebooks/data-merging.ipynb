{
 "nbformat": 4,
 "nbformat_minor": 2,
 "metadata": {
  "language_info": {
   "name": "python",
   "codemirror_mode": {
    "name": "ipython",
    "version": 3
   },
   "version": "3.7.3"
  },
  "orig_nbformat": 2,
  "file_extension": ".py",
  "mimetype": "text/x-python",
  "name": "python",
  "npconvert_exporter": "python",
  "pygments_lexer": "ipython3",
  "version": 3
 },
 "cells": [
  {
   "cell_type": "code",
   "execution_count": 1,
   "metadata": {},
   "outputs": [],
   "source": [
    "# Import stuff\n",
    "import pandas as pd\n",
    "import numpy as np"
   ]
  },
  {
   "cell_type": "code",
   "execution_count": 2,
   "metadata": {},
   "outputs": [
    {
     "name": "stdout",
     "output_type": "stream",
     "text": "/Users/SamYang95/GRN_Inference_IY/scripts-notebooks\n"
    }
   ],
   "source": [
    "# # Change directory to VSCode workspace root so that relative path loads work correctly. Turn this addition off with the DataScience.changeDirOnImportExport setting\n",
    "# # ms-python.python added\n",
    "# import os\n",
    "# try:\n",
    "# \t# os.chdir(os.path.join(os.getcwd(), '..'))\n",
    "#     os.chdir(os.path.join(os.getcwd(), \"./scripts-notebooks\"))\n",
    "#     print(os.getcwd())\n",
    "# except Exception as e:\n",
    "# \tprint(e)"
   ]
  },
  {
   "cell_type": "code",
   "execution_count": 3,
   "metadata": {},
   "outputs": [],
   "source": [
    "# Get expression data\n",
    "ko_df = pd.read_csv('../dataset/yeast_networks/expression/KO.txt', sep='\\t').set_index('Gene')\n",
    "nv_df = pd.read_csv('../dataset/yeast_networks/expression/NatVar.txt', sep='\\t').set_index('Gene')\n",
    "stress_df = pd.read_csv('../dataset/yeast_networks/expression/Stress.txt', sep='\\t').set_index('Name')\n",
    "\n",
    "# Get Transcription Factors\n",
    "ko_tf = pd.read_csv('../dataset/yeast_networks/expression/KO_TF_names.txt', sep='\\t', header=None)\n",
    "ko_tf.columns = ['TF']\n",
    "\n",
    "nv_tf = pd.read_csv('../dataset/yeast_networks/expression/NatVar_TF_names.txt', sep='\\t', header=None)\n",
    "nv_tf.columns = ['TF']\n",
    "\n",
    "stress_tf = pd.read_csv('../dataset/yeast_networks/expression/Stress_TF_names.txt', sep='\\t', header=None)\n",
    "stress_tf.columns = ['TF']\n",
    "\n",
    "# Note that there are different gene list for each df, so we will use ko as test for now."
   ]
  },
  {
   "cell_type": "code",
   "execution_count": 14,
   "metadata": {},
   "outputs": [],
   "source": [
    "def merge_dataset(df_list, merge_method, index_name=None):\n",
    "    '''\n",
    "    Merge data frames and return a merged data frame\n",
    "    Args:\n",
    "        - df_list (required): list of data frames to merge\n",
    "        - merge_method (required): a function that merges two data frames (see example below)\n",
    "        - index_name (optional): index_name for the returned data frame\n",
    "    Example Usage:\n",
    "        merge_method_df = lambda x, y: x.merge(y, how='inner', left_index=True, right_index=True) # define merge_method\n",
    "        df_all = merge_dataset([ko_df, nv_df, stress_df], merge_method=merge_method_df, index_name='Gene')\n",
    "        \n",
    "        merge_method_tf = lambda x, y: x.merge(y, how='inner', left_on='TF', right_on='TF')\n",
    "        tf_all = merge_dataset([ko_tf, nv_tf, stress_tf], merge_method=merge_method_tf)\n",
    "    '''\n",
    "    if len(df_list) == 0: raise Exception(\"input list cannot be empty\")\n",
    "\n",
    "    df = df_list[0]\n",
    "    for i in range(1, len(df_list)):\n",
    "        df = merge_method(df, df_list[i])\n",
    "\n",
    "    if index_name:\n",
    "        df.index.name = index_name\n",
    "\n",
    "    return df"
   ]
  },
  {
   "cell_type": "code",
   "execution_count": 5,
   "metadata": {},
   "outputs": [],
   "source": [
    "merge_method_df = lambda x, y: x.merge(y, how='inner', left_index=True, right_index=True)\n",
    "merge_method_tf = lambda x, y: x.merge(y, how='inner', left_on='TF', right_on='TF')"
   ]
  },
  {
   "cell_type": "code",
   "execution_count": 6,
   "metadata": {},
   "outputs": [],
   "source": [
    "df_all = merge_dataset([ko_df, nv_df, stress_df], merge_method=merge_method_df, index_name='Gene')\n",
    "tf_all = merge_dataset([ko_tf, nv_tf, stress_tf], merge_method=merge_method_tf)"
   ]
  },
  {
   "cell_type": "code",
   "execution_count": 8,
   "metadata": {},
   "outputs": [],
   "source": [
    "df_all.to_csv('../dataset/yeast_networks/expression/All.txt', sep='\\t')\n",
    "tf_all.to_csv('../dataset/yeast_networks/expression/All_TF_names.txt', index=False, columns=['TF'], sep='\\t', header=False)"
   ]
  },
  {
   "cell_type": "markdown",
   "execution_count": null,
   "metadata": {},
   "outputs": [],
   "source": [
    "## See if retrieved data is correct"
   ]
  },
  {
   "cell_type": "code",
   "execution_count": 10,
   "metadata": {},
   "outputs": [],
   "source": [
    "df_retrieved = pd.read_csv('../dataset/yeast_networks/expression/All.txt', sep='\\t').set_index('Gene')\n",
    "\n",
    "tf_retrieved = pd.read_csv('../dataset/yeast_networks/expression/All_TF_names.txt', sep='\\t', header=None)\n",
    "tf_retrieved.columns = ['TF']"
   ]
  },
  {
   "cell_type": "code",
   "execution_count": 13,
   "metadata": {},
   "outputs": [],
   "source": [
    "df_og = ko_df.merge(nv_df, how='inner', left_index=True, right_index=True)\n",
    "df_og = df_og.merge(stress_df, how='inner', left_index=True, right_index=True)\n",
    "\n",
    "tf_og = ko_tf.merge(nv_tf, how='inner', left_on='TF', right_on='TF')\n",
    "tf_og = tf_og.merge(stressd_tf, how='inner', left_on='TF', right_on='TF')"
   ]
  }
 ]
}