{
 "cells": [
  {
   "cell_type": "markdown",
   "metadata": {},
   "source": [
    "# Predicting GRN with co-expression method\n",
    "Reasoning: if a TF is highly expressed together with a target gene, then it should be predictive of said gene. So we try to construct a matrix with r squared value as entry between tf_i gene_j"
   ]
  },
  {
   "cell_type": "code",
   "execution_count": 1,
   "metadata": {},
   "outputs": [],
   "source": [
    "# Import stuff\n",
    "import pandas as pd\n",
    "import numpy as np"
   ]
  },
  {
   "cell_type": "code",
   "execution_count": 2,
   "metadata": {},
   "outputs": [],
   "source": [
    "# Get expression data\n",
    "ko_df = pd.read_csv('../dataset/yeast_networks/expression/KO.txt', sep='\\t').set_index('Gene')\n",
    "nv_df = pd.read_csv('../dataset/yeast_networks/expression/NatVar.txt', sep='\\t').set_index('Gene')\n",
    "stress_df = pd.read_csv('../dataset/yeast_networks/expression/Stress.txt', sep='\\t').set_index('Name')\n",
    "\n",
    "# Get Transcription Factors\n",
    "ko_tf = pd.read_csv('../dataset/yeast_networks/expression/KO_TF_names.txt', sep='\\t', header=None)\n",
    "ko_tf.columns = ['TF']\n",
    "\n",
    "nv_tf = pd.read_csv('../dataset/yeast_networks/expression/NatVar_TF_names.txt', sep='\\t', header=None)\n",
    "nv_tf.columns = ['TF']\n",
    "\n",
    "stress_tf = pd.read_csv('../dataset/yeast_networks/expression/Stress_TF_names.txt', sep='\\t', header=None)\n",
    "stress_tf.columns = ['TF']\n",
    "\n",
    "# Note that there are different gene list for each df, so we will use ko as test for now."
   ]
  },
  {
   "cell_type": "code",
   "execution_count": 57,
   "metadata": {},
   "outputs": [],
   "source": [
    "# Get pearsonr matrix for expression df\n",
    "def pearsonr_method(exp_df, tf_list):\n",
    "    \n",
    "    '''\n",
    "    Get GRN through pearsonr method (If high absolute pearsonr value, there is an edge between the tf and gene)\n",
    "    '''\n",
    " \n",
    "    # Generate pearsonr matrix\n",
    "    pearsonr_mat = np.corrcoef(exp_df)\n",
    "\n",
    "    # Get the TF as rows\n",
    "    tf_filter = exp_df.index.isin(tf_list.loc[:, 'TF'])\n",
    "    pearsonr_mat = pearsonr_mat[tf_filter, :]\n",
    "    \n",
    "    # Flatten matrix \n",
    "    pearsonr_flat = pearsonr_mat.flatten(order='C')\n",
    "    flat_label = []\n",
    "    \n",
    "    for tf_name in exp_df.index[tf_filter]:   \n",
    "        for target_gene in exp_df.index:\n",
    "            flat_label.append((tf_name, target_gene))\n",
    "    \n",
    "    flat_label = np.array(flat_label)\n",
    "    \n",
    "    # Remove entries with TF_Name -> same TF_Name\n",
    "    \n",
    "    pearsonr_flat = pearsonr_flat[~(flat_label[:, 0] == flat_label[:, 1])]\n",
    "    flat_label = flat_label[~(flat_label[:, 0] == flat_label[:, 1])]\n",
    "    \n",
    "    new_flat_label = []\n",
    "    for label in flat_label:\n",
    "        new_flat_label.append(label[0] + '->' + label[1])\n",
    "    # We treat this pearsonr_flat like an output value of a sigmoid probability function\n",
    "    pearsonr_flat = abs(pearsonr_flat)\n",
    "    return pearsonr_flat, np.array(new_flat_label)\n",
    "    "
   ]
  },
  {
   "cell_type": "code",
   "execution_count": 58,
   "metadata": {},
   "outputs": [],
   "source": [
    "ko_pearsonr_flat, ko_flat_label = pearsonr_method(ko_df, ko_tf)"
   ]
  },
  {
   "cell_type": "code",
   "execution_count": 106,
   "metadata": {},
   "outputs": [],
   "source": [
    "def make_gold_truth(gold_file, pearsonr_flat, flat_label):\n",
    "    '''\n",
    "    Function to get the values for existing edges (1 for exist and 0 and not)\n",
    "    '''\n",
    "    \n",
    "    gold_df = pd.read_csv(gold_file, sep = '\\t', header = None, names = ['Regulator', 'Target']) \n",
    "    gold_edges = gold_df.loc[:, 'Regulator'] + '->' + gold_df.loc[:, 'Target']\n",
    "    \n",
    "    truth_flat = np.zeros(len(pearsonr_flat))\n",
    "    \n",
    "    truth_flat[pd.Series(flat_label).isin(gold_edges).values] = 1\n",
    "    \n",
    "    \n",
    "    return truth_flat"
   ]
  },
  {
   "cell_type": "code",
   "execution_count": 108,
   "metadata": {},
   "outputs": [],
   "source": [
    "ko_truth = make_gold_truth('../dataset/yeast_networks/gold/MacIsaac2.KO.txt', ko_pearsonr_flat, ko_flat_label)"
   ]
  },
  {
   "cell_type": "code",
   "execution_count": 112,
   "metadata": {},
   "outputs": [],
   "source": [
    "# Get roc curve\n",
    "from sklearn.metrics import roc_curve\n",
    "fpr, tpr, ths  = roc_curve(ko_truth, ko_pearsonr_flat)"
   ]
  },
  {
   "cell_type": "code",
   "execution_count": 119,
   "metadata": {},
   "outputs": [
    {
     "data": {
      "image/png": "[encoded data removed]",
      "text/plain": [
       "<Figure size 720x720 with 1 Axes>"
      ]
     },
     "metadata": {
      "needs_background": "light"
     },
     "output_type": "display_data"
    }
   ],
   "source": [
    "import matplotlib.pyplot as plt\n",
    "\n",
    "plt.figure(figsize=(10,10))\n",
    "plt.plot(fpr, tpr)\n",
    "plt.plot(np.arange(0, 1), np.arange(0,1))\n",
    "plt.show()"
   ]
  },
  {
   "cell_type": "code",
   "execution_count": null,
   "metadata": {},
   "outputs": [],
   "source": []
  }
 ],
 "metadata": {
  "kernelspec": {
   "display_name": "Python 3",
   "language": "python",
   "name": "python3"
  },
  "language_info": {
   "codemirror_mode": {
    "name": "ipython",
    "version": 3
   },
   "file_extension": ".py",
   "mimetype": "text/x-python",
   "name": "python",
   "nbconvert_exporter": "python",
   "pygments_lexer": "ipython3",
   "version": "3.7.0"
  }
 },
 "nbformat": 4,
 "nbformat_minor": 2
}
